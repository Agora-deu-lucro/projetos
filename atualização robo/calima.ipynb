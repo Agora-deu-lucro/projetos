{
 "cells": [
  {
   "cell_type": "code",
   "execution_count": 114,
   "metadata": {},
   "outputs": [],
   "source": [
    "from selenium import webdriver\n",
    "from selenium.webdriver.chrome.service import Service\n",
    "from webdriver_manager.chrome import ChromeDriverManager\n",
    "from selenium.webdriver.chrome.options import Options\n",
    "from selenium.webdriver.support import expected_conditions as EC\n",
    "from selenium.webdriver.support.ui import WebDriverWait\n",
    "from selenium.webdriver.common.by import By\n",
    "from selenium.webdriver.common.keys import Keys\n",
    "from selenium.common.exceptions import StaleElementReferenceException \n",
    "import time\n",
    "\n",
    "# Configurações do Chrome\n",
    "options = Options()\n",
    "options.add_argument(\"--start-maximized\")  # Abre em tela cheia\n",
    "# Adicione opções se necessário, por exemplo:\n",
    "# options.add_argument('--headless')  # Para rodar em segundo plano\n",
    "\n",
    "# Cria uma nova instância do Chrome\n",
    "#driver = webdriver.Chrome(service=Service(ChromeDriverManager().install()), options=options)\n",
    "\n",
    "\n",
    "servico = Service(ChromeDriverManager().install())\n",
    "navegador = webdriver.Chrome(service=Service(ChromeDriverManager().install()), options=options)\n",
    "\n",
    "navegador.get('https://www.calima.app/')\n",
    "\n"
   ]
  },
  {
   "cell_type": "code",
   "execution_count": 115,
   "metadata": {},
   "outputs": [],
   "source": [
    "#fazendo loguin\n",
    "\n",
    "#usuario\n",
    "navegador.find_element(By.XPATH,'//*[@id=\"idusuario\"]/input').send_keys('renanjorge')\n",
    "time.sleep(4)\n",
    "#senha\n",
    "navegador.find_element(By.XPATH,'//*[@id=\"idsenha\"]/input').send_keys('Tfdqq72674')\n",
    "time.sleep(4)\n",
    "#botão entrar\n",
    "navegador.find_element(By.XPATH,'//*[@id=\"root\"]/div[2]/div[1]/div/div/form/div[3]/div/div[1]/button').click()\n",
    "time.sleep(10)"
   ]
  },
  {
   "cell_type": "code",
   "execution_count": 116,
   "metadata": {},
   "outputs": [],
   "source": [
    "#Fechando a primeira aba de certificados\n",
    "options.add_argument(\"--start-maximized\")  # Abre em tela cheia\n",
    "time.sleep(4)\n",
    "navegador.find_element(By.XPATH, '/html/body/div[4]/div/div[1]/div/div/div[3]/div/div[2]/div/button').click()\n",
    "time.sleep(4)"
   ]
  },
  {
   "cell_type": "code",
   "execution_count": 117,
   "metadata": {},
   "outputs": [],
   "source": [
    "#escolhendo o modulo\n",
    "navegador.find_element(By.XPATH, '//*[@id=\"root\"]/div[2]/div[1]/div[2]/button').click()\n",
    "time.sleep(4)\n",
    "\n",
    "#clicando no modulo fiscal\n",
    "\n",
    "navegador.find_element(By.XPATH, '//*[@id=\"root\"]/div[2]/div[1]/div[2]/div/div/div/div[1]/div[4]/div[1]/a').click()\n",
    "time.sleep(4)"
   ]
  },
  {
   "cell_type": "code",
   "execution_count": null,
   "metadata": {},
   "outputs": [],
   "source": [
    "#importando a base de dados da empresa\n",
    "\n",
    "import pandas as pd\n",
    "\n",
    "tabela = pd.read_excel(\"clientesassl.xlsx\")\n",
    "display(tabela)"
   ]
  },
  {
   "cell_type": "code",
   "execution_count": null,
   "metadata": {},
   "outputs": [],
   "source": [
    "from selenium.webdriver.common.keys import Keys\n",
    "import pyautogui as pg\n",
    "# para cada cliente - rodar o processo de emissao de nota fiscal\n",
    "for index, row in tabela.iterrows():\n",
    "    nome_empresa = row['nome']\n",
    "    rasao = row['rasao']\n",
    "\n",
    "    # Clicando em uma posição específica (exemplo)\n",
    "    pg.click(x=1238, y=211)\n",
    "    time.sleep(5)\n",
    "\n",
    "    # Usando a função correta para digitar o nome da empresa\n",
    "    pg.write(nome_empresa)\n",
    "    time.sleep(5)\n",
    "\n",
    "    # Pressionando Enter\n",
    "    pg.press('enter')\n",
    "    time.sleep(5)\n",
    "\n",
    "    #escolhendo a opção para importar as natoas\n",
    "    navegador.find_element(By.XPATH, '//*[@id=\"root\"]/div[2]/div[1]/div[3]/div/div[1]/ul/li[4]/a').click()\n",
    "    time.sleep(4)\n",
    "    navegador.find_element(By.XPATH, '//*[@id=\"root\"]/div[2]/div[1]/div[3]/div/div[1]/ul/li[4]/div/ul/li[2]/a/span[1]').click()\n",
    "    time.sleep(4)\n",
    "\n",
    "    #selecionando a modalidade da nota\n",
    "\n",
    "    # Aguarde até que o elemento esteja presente\n",
    "    elemento = WebDriverWait(navegador, 20).until(\n",
    "        EC.presence_of_element_located((By.XPATH, '//*[@id=\"root\"]/div[2]/div[1]/div[3]/div/div[1]/ul/li[4]/div/ul/li[2]/div/ul/li[5]'))\n",
    "    )\n",
    "\n",
    "    # Rolar até o elemento\n",
    "    navegador.execute_script(\"arguments[0].scrollIntoView();\", elemento)\n",
    "\n",
    "    # Agora você pode clicar no elemento ou interagir com ele\n",
    "    elemento.click()\n",
    "\n",
    "   #prenchendo os dados da empresa\n",
    "    input_element = WebDriverWait(navegador, 30).until(\n",
    "    EC.visibility_of_element_located((By.XPATH,'//*[contains(@id, \"react-select\")]'))\n",
    "    )\n",
    "    input_element.send_keys(rasao, Keys.ENTER)\n",
    "\n",
    "    #Inserindo a data\n",
    "    time.sleep(5)\n",
    "    navegador.find_element(By.XPATH, '//*[@id=\"iddtEntradaPadraofmt\"]').send_keys('01/01/2024')\n",
    "\n",
    "    #clicando na parte de selecionar o arquivo\n",
    "    time.sleep(5)\n",
    "    botao_file = navegador.find_element(By.XPATH, '//*[@id=\"arquivos\"]')\n",
    "\n",
    "    # Passando o caminho do arquivo (podendo colocar todos os caminhos na base de dados e ir usando aqui igual com o nome)\n",
    "    botao_file.send_keys(r'C:\\Users\\AGORA DEU LUCRO\\Downloads\\09 - Setembro Compras\\09 - Setembro\\29240920939452000140550010000000481000000633.pdf')\n",
    "\n",
    "    time.sleep(4)\n",
    "\n",
    "    #clicando em importar\n",
    "    navegador.find_element(By.XPATH, '//*[@id=\"root\"]/div[2]/div[2]/div[2]/div[1]/div/div/div[2]/div/div[2]/div[1]/form/div[5]/div/button[1]').click()"
   ]
  }
 ],
 "metadata": {
  "kernelspec": {
   "display_name": "venv",
   "language": "python",
   "name": "python3"
  },
  "language_info": {
   "codemirror_mode": {
    "name": "ipython",
    "version": 3
   },
   "file_extension": ".py",
   "mimetype": "text/x-python",
   "name": "python",
   "nbconvert_exporter": "python",
   "pygments_lexer": "ipython3",
   "version": "3.12.2"
  }
 },
 "nbformat": 4,
 "nbformat_minor": 2
}
